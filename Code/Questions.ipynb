{
 "cells": [
  {
   "cell_type": "markdown",
   "metadata": {
    "id": "xNsf_XJnbG8D"
   },
   "source": [
    "# Predict House Prices"
   ]
  },
  {
   "cell_type": "code",
   "execution_count": 1,
   "metadata": {
    "id": "roOSlk6-aDnk"
   },
   "outputs": [],
   "source": [
    "# If additional packages are needed but are not installed by default, uncomment the last two lines of this cell\n",
    "# and replace <package list> with a list of additional packages.\n",
    "# This will ensure the notebook has all the dependencies and works everywhere\n",
    "\n",
    "#import sys\n",
    "#!{sys.executable} -m pip install <package list>"
   ]
  },
  {
   "cell_type": "code",
   "execution_count": 2,
   "metadata": {
    "id": "fmWa0S0ZbYtx"
   },
   "outputs": [],
   "source": [
    "# Libraries\n",
    "import pandas as pd\n",
    "import numpy as np\n",
    "import sklearn\n",
    "\n",
    "pd.set_option(\"display.max_columns\", 101)\n",
    "pd.set_option('display.max_colwidth', 100)"
   ]
  },
  {
   "cell_type": "markdown",
   "metadata": {
    "id": "r8kqQ8h2eMJn"
   },
   "source": [
    "## Data Description"
   ]
  },
  {
   "cell_type": "markdown",
   "metadata": {
    "id": "MxXczpXMeNPO"
   },
   "source": [
    "Column | Description\n",
    ":---|:---\n",
    "`id` | Unique ID corresponding to the locality\n",
    "`income` | Average monthly income in 1000s of people living in the locality\n",
    "`age` | Average age of houses in the locality\n",
    "`rooms` | Average number of rooms in the houses situated in the locality\n",
    "`bedrooms` | Average number of bedrooms in the houses situated in the locality\n",
    "`people_per_house` | Average number of people living in each house situated in the locality\n",
    "`location` | Location of the locality represented as latitude and longitude separated by a delimiter\n",
    "`outcome` | The predicted median price of a house in the locality (1 - High, 0 - Low)"
   ]
  },
  {
   "cell_type": "code",
   "execution_count": 3,
   "metadata": {
    "colab": {
     "base_uri": "https://localhost:8080/",
     "height": 204
    },
    "executionInfo": {
     "elapsed": 791,
     "status": "ok",
     "timestamp": 1619527827328,
     "user": {
      "displayName": "Abhinav Gupta",
      "photoUrl": "https://lh3.googleusercontent.com/a-/AOh14GjBpiTimJbxMWFkdipjcGYSIUpGfIav82LSmCyTXw=s64",
      "userId": "04670585521629932433"
     },
     "user_tz": -330
    },
    "id": "efkG0EkjeBWo",
    "outputId": "1a0c049c-4aa2-4d17-bc41-553e81a2bba3"
   },
   "outputs": [
    {
     "data": {
      "text/html": [
       "<div>\n",
       "<style scoped>\n",
       "    .dataframe tbody tr th:only-of-type {\n",
       "        vertical-align: middle;\n",
       "    }\n",
       "\n",
       "    .dataframe tbody tr th {\n",
       "        vertical-align: top;\n",
       "    }\n",
       "\n",
       "    .dataframe thead th {\n",
       "        text-align: right;\n",
       "    }\n",
       "</style>\n",
       "<table border=\"1\" class=\"dataframe\">\n",
       "  <thead>\n",
       "    <tr style=\"text-align: right;\">\n",
       "      <th></th>\n",
       "      <th>id</th>\n",
       "      <th>income</th>\n",
       "      <th>age</th>\n",
       "      <th>rooms</th>\n",
       "      <th>bedrooms</th>\n",
       "      <th>population</th>\n",
       "      <th>people_per_house</th>\n",
       "      <th>location</th>\n",
       "      <th>outcome</th>\n",
       "    </tr>\n",
       "  </thead>\n",
       "  <tbody>\n",
       "    <tr>\n",
       "      <th>0</th>\n",
       "      <td>0</td>\n",
       "      <td>4.5493</td>\n",
       "      <td>forty-three</td>\n",
       "      <td>4.692308</td>\n",
       "      <td>1.026525</td>\n",
       "      <td>-639.0</td>\n",
       "      <td>2.923077</td>\n",
       "      <td>37.66;-122.43</td>\n",
       "      <td>1.0</td>\n",
       "    </tr>\n",
       "    <tr>\n",
       "      <th>1</th>\n",
       "      <td>1</td>\n",
       "      <td>4.4391</td>\n",
       "      <td>fourteen</td>\n",
       "      <td>5.280561</td>\n",
       "      <td>1.034068</td>\n",
       "      <td>1150.0</td>\n",
       "      <td>2.304609</td>\n",
       "      <td>33.68_-117.8</td>\n",
       "      <td>1.0</td>\n",
       "    </tr>\n",
       "    <tr>\n",
       "      <th>2</th>\n",
       "      <td>2</td>\n",
       "      <td>3.3333</td>\n",
       "      <td>eleven</td>\n",
       "      <td>6.410397</td>\n",
       "      <td>1.164159</td>\n",
       "      <td>2466.0</td>\n",
       "      <td>3.373461</td>\n",
       "      <td>33.67_-116.31</td>\n",
       "      <td>0.0</td>\n",
       "    </tr>\n",
       "    <tr>\n",
       "      <th>3</th>\n",
       "      <td>3</td>\n",
       "      <td>3.2847</td>\n",
       "      <td>17.0</td>\n",
       "      <td>3.381720</td>\n",
       "      <td>1.188172</td>\n",
       "      <td>514.0</td>\n",
       "      <td>2.763441</td>\n",
       "      <td>34.24;-119.18</td>\n",
       "      <td>0.0</td>\n",
       "    </tr>\n",
       "    <tr>\n",
       "      <th>4</th>\n",
       "      <td>4</td>\n",
       "      <td>1.4464</td>\n",
       "      <td>17.0</td>\n",
       "      <td>5.431034</td>\n",
       "      <td>1.534483</td>\n",
       "      <td>130.0</td>\n",
       "      <td>2.241379</td>\n",
       "      <td>37.65,-120.46</td>\n",
       "      <td>0.0</td>\n",
       "    </tr>\n",
       "  </tbody>\n",
       "</table>\n",
       "</div>"
      ],
      "text/plain": [
       "   id  income          age     rooms  bedrooms  population  people_per_house  \\\n",
       "0   0  4.5493  forty-three  4.692308  1.026525      -639.0          2.923077   \n",
       "1   1  4.4391     fourteen  5.280561  1.034068      1150.0          2.304609   \n",
       "2   2  3.3333       eleven  6.410397  1.164159      2466.0          3.373461   \n",
       "3   3  3.2847         17.0  3.381720  1.188172       514.0          2.763441   \n",
       "4   4  1.4464         17.0  5.431034  1.534483       130.0          2.241379   \n",
       "\n",
       "        location  outcome  \n",
       "0  37.66;-122.43      1.0  \n",
       "1   33.68_-117.8      1.0  \n",
       "2  33.67_-116.31      0.0  \n",
       "3  34.24;-119.18      0.0  \n",
       "4  37.65,-120.46      0.0  "
      ]
     },
     "execution_count": 3,
     "metadata": {},
     "output_type": "execute_result"
    }
   ],
   "source": [
    "# The information dataset for the training set is already loaded below\n",
    "data = pd.read_csv('train.csv')\n",
    "data.head()"
   ]
  },
  {
   "cell_type": "code",
   "execution_count": null,
   "metadata": {
    "id": "hW7s7Dl6A2fF"
   },
   "outputs": [],
   "source": []
  },
  {
   "cell_type": "code",
   "execution_count": null,
   "metadata": {
    "id": "wHrNW573ryKp"
   },
   "outputs": [],
   "source": []
  },
  {
   "cell_type": "code",
   "execution_count": null,
   "metadata": {
    "id": "hOaZiTiIryN2"
   },
   "outputs": [],
   "source": []
  },
  {
   "cell_type": "code",
   "execution_count": null,
   "metadata": {
    "id": "_Gidj9XWryRT"
   },
   "outputs": [],
   "source": []
  },
  {
   "cell_type": "markdown",
   "metadata": {
    "id": "DR-SDOzimse3"
   },
   "source": [
    "## Machine Learning\n",
    "\n",
    "Build a machine learning model that can predict the outcome.\n",
    "- **The model's performance will be evaluated on the basis of Accuracy Score.**"
   ]
  },
  {
   "cell_type": "code",
   "execution_count": null,
   "metadata": {
    "id": "xlCNnIWZmoG6"
   },
   "outputs": [],
   "source": []
  },
  {
   "cell_type": "code",
   "execution_count": null,
   "metadata": {
    "id": "7VjhrFrutwWc"
   },
   "outputs": [],
   "source": []
  },
  {
   "cell_type": "code",
   "execution_count": null,
   "metadata": {
    "id": "pnw0Nm2ztweC"
   },
   "outputs": [],
   "source": []
  },
  {
   "cell_type": "code",
   "execution_count": null,
   "metadata": {
    "id": "0YJhXygim5ql"
   },
   "outputs": [],
   "source": []
  },
  {
   "cell_type": "markdown",
   "metadata": {
    "id": "sXCkndGRm6Bz"
   },
   "source": [
    "> #### Task:\n",
    "- **Submit the predictions on the test dataset using your optimized model** <br/>\n",
    "    Submit a CSV file with a header row plus each of the test entries, each on its own line. \n",
    "\n",
    "The file (`submissions.csv`) should have exactly 2 columns:\n",
    "\n",
    "Column | Description\n",
    ":---|:---\n",
    "`id`  | Unique ID corresponding to the vehicle\n",
    "`outcome`  | The predicted median price of a house in the locality (1 - High, 0 - Low)"
   ]
  },
  {
   "cell_type": "code",
   "execution_count": 4,
   "metadata": {
    "colab": {
     "base_uri": "https://localhost:8080/",
     "height": 204
    },
    "executionInfo": {
     "elapsed": 1193,
     "status": "ok",
     "timestamp": 1619527944020,
     "user": {
      "displayName": "Abhinav Gupta",
      "photoUrl": "https://lh3.googleusercontent.com/a-/AOh14GjBpiTimJbxMWFkdipjcGYSIUpGfIav82LSmCyTXw=s64",
      "userId": "04670585521629932433"
     },
     "user_tz": -330
    },
    "id": "m0UOiaNWnvL5",
    "outputId": "af2c41ef-8c1f-44c8-a8ad-3c059f299117"
   },
   "outputs": [
    {
     "data": {
      "text/html": [
       "<div>\n",
       "<style scoped>\n",
       "    .dataframe tbody tr th:only-of-type {\n",
       "        vertical-align: middle;\n",
       "    }\n",
       "\n",
       "    .dataframe tbody tr th {\n",
       "        vertical-align: top;\n",
       "    }\n",
       "\n",
       "    .dataframe thead th {\n",
       "        text-align: right;\n",
       "    }\n",
       "</style>\n",
       "<table border=\"1\" class=\"dataframe\">\n",
       "  <thead>\n",
       "    <tr style=\"text-align: right;\">\n",
       "      <th></th>\n",
       "      <th>id</th>\n",
       "      <th>income</th>\n",
       "      <th>age</th>\n",
       "      <th>rooms</th>\n",
       "      <th>bedrooms</th>\n",
       "      <th>population</th>\n",
       "      <th>people_per_house</th>\n",
       "      <th>location</th>\n",
       "    </tr>\n",
       "  </thead>\n",
       "  <tbody>\n",
       "    <tr>\n",
       "      <th>0</th>\n",
       "      <td>7000</td>\n",
       "      <td>4.8854</td>\n",
       "      <td>52.0</td>\n",
       "      <td>6.437186</td>\n",
       "      <td>1.030151</td>\n",
       "      <td>-915.0</td>\n",
       "      <td>2.444724</td>\n",
       "      <td>37.33;-121.91</td>\n",
       "    </tr>\n",
       "    <tr>\n",
       "      <th>1</th>\n",
       "      <td>7001</td>\n",
       "      <td>1.7361</td>\n",
       "      <td>forty-two</td>\n",
       "      <td>3.000000</td>\n",
       "      <td>1.000000</td>\n",
       "      <td>26.0</td>\n",
       "      <td>1.857143</td>\n",
       "      <td>37.39_-121.9</td>\n",
       "    </tr>\n",
       "    <tr>\n",
       "      <th>2</th>\n",
       "      <td>7002</td>\n",
       "      <td>5.2555</td>\n",
       "      <td>22.0</td>\n",
       "      <td>4.825199</td>\n",
       "      <td>1.217934</td>\n",
       "      <td>1581.0</td>\n",
       "      <td>1.794552</td>\n",
       "      <td>34.05;-118.43</td>\n",
       "    </tr>\n",
       "    <tr>\n",
       "      <th>3</th>\n",
       "      <td>7003</td>\n",
       "      <td>2.3214</td>\n",
       "      <td>36.0</td>\n",
       "      <td>3.725694</td>\n",
       "      <td>0.940972</td>\n",
       "      <td>1385.0</td>\n",
       "      <td>4.809028</td>\n",
       "      <td>33.9_-118.19</td>\n",
       "    </tr>\n",
       "    <tr>\n",
       "      <th>4</th>\n",
       "      <td>7004</td>\n",
       "      <td>5.2078</td>\n",
       "      <td>30.0</td>\n",
       "      <td>6.332317</td>\n",
       "      <td>1.042683</td>\n",
       "      <td>-864.0</td>\n",
       "      <td>2.487805</td>\n",
       "      <td>37.0,-122.03</td>\n",
       "    </tr>\n",
       "  </tbody>\n",
       "</table>\n",
       "</div>"
      ],
      "text/plain": [
       "     id  income        age     rooms  bedrooms  population  people_per_house  \\\n",
       "0  7000  4.8854       52.0  6.437186  1.030151      -915.0          2.444724   \n",
       "1  7001  1.7361  forty-two  3.000000  1.000000        26.0          1.857143   \n",
       "2  7002  5.2555       22.0  4.825199  1.217934      1581.0          1.794552   \n",
       "3  7003  2.3214       36.0  3.725694  0.940972      1385.0          4.809028   \n",
       "4  7004  5.2078       30.0  6.332317  1.042683      -864.0          2.487805   \n",
       "\n",
       "        location  \n",
       "0  37.33;-121.91  \n",
       "1   37.39_-121.9  \n",
       "2  34.05;-118.43  \n",
       "3   33.9_-118.19  \n",
       "4   37.0,-122.03  "
      ]
     },
     "execution_count": 4,
     "metadata": {},
     "output_type": "execute_result"
    }
   ],
   "source": [
    "test = pd.read_csv('test.csv')\n",
    "test.head()"
   ]
  },
  {
   "cell_type": "code",
   "execution_count": null,
   "metadata": {
    "id": "JvDjtDgQPf0B"
   },
   "outputs": [],
   "source": []
  },
  {
   "cell_type": "code",
   "execution_count": null,
   "metadata": {
    "id": "oo1BW2qnnzJj"
   },
   "outputs": [],
   "source": [
    "#Submission\n",
    "submission_df.to_csv('submissions.csv', index=False)"
   ]
  }
 ],
 "metadata": {
  "colab": {
   "authorship_tag": "ABX9TyPeimH63fxTJUvKqQ6fimMm",
   "collapsed_sections": [],
   "name": "Questions.ipynb",
   "provenance": [],
   "toc_visible": true
  },
  "kernelspec": {
   "display_name": "Python 3 (ipykernel)",
   "language": "python",
   "name": "python3"
  },
  "language_info": {
   "codemirror_mode": {
    "name": "ipython",
    "version": 3
   },
   "file_extension": ".py",
   "mimetype": "text/x-python",
   "name": "python",
   "nbconvert_exporter": "python",
   "pygments_lexer": "ipython3",
   "version": "3.9.12"
  }
 },
 "nbformat": 4,
 "nbformat_minor": 4
}
